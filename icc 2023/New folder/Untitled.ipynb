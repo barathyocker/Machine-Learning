{
 "cells": [
  {
   "cell_type": "code",
   "execution_count": 1,
   "id": "13e2c60e",
   "metadata": {},
   "outputs": [],
   "source": [
    "import pandas as pd\n",
    "import pickle"
   ]
  },
  {
   "cell_type": "code",
   "execution_count": 2,
   "id": "2a45f6e8",
   "metadata": {},
   "outputs": [],
   "source": [
    "dataset = pd.read_csv('Book1.csv')"
   ]
  },
  {
   "cell_type": "code",
   "execution_count": 3,
   "id": "80cd5ee9",
   "metadata": {},
   "outputs": [
    {
     "data": {
      "text/html": [
       "<div>\n",
       "<style scoped>\n",
       "    .dataframe tbody tr th:only-of-type {\n",
       "        vertical-align: middle;\n",
       "    }\n",
       "\n",
       "    .dataframe tbody tr th {\n",
       "        vertical-align: top;\n",
       "    }\n",
       "\n",
       "    .dataframe thead th {\n",
       "        text-align: right;\n",
       "    }\n",
       "</style>\n",
       "<table border=\"1\" class=\"dataframe\">\n",
       "  <thead>\n",
       "    <tr style=\"text-align: right;\">\n",
       "      <th></th>\n",
       "      <th>match</th>\n",
       "      <th>balls</th>\n",
       "      <th>four</th>\n",
       "      <th>strike rate</th>\n",
       "      <th>six</th>\n",
       "      <th>runs</th>\n",
       "    </tr>\n",
       "  </thead>\n",
       "  <tbody>\n",
       "    <tr>\n",
       "      <th>0</th>\n",
       "      <td>1</td>\n",
       "      <td>116</td>\n",
       "      <td>6</td>\n",
       "      <td>73.28</td>\n",
       "      <td>0</td>\n",
       "      <td>85</td>\n",
       "    </tr>\n",
       "    <tr>\n",
       "      <th>1</th>\n",
       "      <td>2</td>\n",
       "      <td>56</td>\n",
       "      <td>6</td>\n",
       "      <td>98.10</td>\n",
       "      <td>0</td>\n",
       "      <td>55</td>\n",
       "    </tr>\n",
       "    <tr>\n",
       "      <th>2</th>\n",
       "      <td>3</td>\n",
       "      <td>18</td>\n",
       "      <td>3</td>\n",
       "      <td>88.89</td>\n",
       "      <td>0</td>\n",
       "      <td>16</td>\n",
       "    </tr>\n",
       "    <tr>\n",
       "      <th>3</th>\n",
       "      <td>4</td>\n",
       "      <td>97</td>\n",
       "      <td>6</td>\n",
       "      <td>106.19</td>\n",
       "      <td>4</td>\n",
       "      <td>103</td>\n",
       "    </tr>\n",
       "    <tr>\n",
       "      <th>4</th>\n",
       "      <td>5</td>\n",
       "      <td>95</td>\n",
       "      <td>8</td>\n",
       "      <td>91.35</td>\n",
       "      <td>2</td>\n",
       "      <td>95</td>\n",
       "    </tr>\n",
       "    <tr>\n",
       "      <th>5</th>\n",
       "      <td>6</td>\n",
       "      <td>9</td>\n",
       "      <td>0</td>\n",
       "      <td>0.00</td>\n",
       "      <td>0</td>\n",
       "      <td>0</td>\n",
       "    </tr>\n",
       "    <tr>\n",
       "      <th>6</th>\n",
       "      <td>7</td>\n",
       "      <td>94</td>\n",
       "      <td>11</td>\n",
       "      <td>93.62</td>\n",
       "      <td>0</td>\n",
       "      <td>88</td>\n",
       "    </tr>\n",
       "  </tbody>\n",
       "</table>\n",
       "</div>"
      ],
      "text/plain": [
       "   match  balls  four  strike rate  six  runs\n",
       "0      1    116     6        73.28    0    85\n",
       "1      2     56     6        98.10    0    55\n",
       "2      3     18     3        88.89    0    16\n",
       "3      4     97     6       106.19    4   103\n",
       "4      5     95     8        91.35    2    95\n",
       "5      6      9     0         0.00    0     0\n",
       "6      7     94    11        93.62    0    88"
      ]
     },
     "execution_count": 3,
     "metadata": {},
     "output_type": "execute_result"
    }
   ],
   "source": [
    "dataset"
   ]
  },
  {
   "cell_type": "code",
   "execution_count": 4,
   "id": "070ba73c",
   "metadata": {},
   "outputs": [],
   "source": [
    "independent=dataset[['balls', 'four', 'six']]"
   ]
  },
  {
   "cell_type": "code",
   "execution_count": 5,
   "id": "794185ef",
   "metadata": {},
   "outputs": [],
   "source": [
    "dependent=dataset[['runs']]"
   ]
  },
  {
   "cell_type": "code",
   "execution_count": null,
   "id": "57fa0032",
   "metadata": {},
   "outputs": [],
   "source": [
    "from sklearn.preprocessing import StandardScaler\n",
    "sc= StandardScaler()\n",
    "independent= sc.fit_transform(independent)"
   ]
  },
  {
   "cell_type": "code",
   "execution_count": 6,
   "id": "5befa58f",
   "metadata": {},
   "outputs": [],
   "source": [
    "from sklearn.model_selection import GridSearchCV\n",
    "\n",
    "from sklearn.tree import DecisionTreeRegressor\n",
    "\n",
    "param_grid = {'criterion': ['squared_error', 'friedman_mse','absolute_error','poison'],\n",
    "             'splitter': ['best','random']}\n",
    "\n",
    "grid =GridSearchCV(DecisionTreeRegressor(), param_grid, refit=True, verbose=3 ,n_jobs=-1)\n"
   ]
  },
  {
   "cell_type": "code",
   "execution_count": null,
   "id": "07587c9d",
   "metadata": {},
   "outputs": [],
   "source": [
    "grid.fit(independent,dependent)"
   ]
  },
  {
   "cell_type": "code",
   "execution_count": null,
   "id": "f726bd87",
   "metadata": {},
   "outputs": [],
   "source": [
    "re=grid.cv_results_\n",
    "print(\"the R_score value for the best parameter {}:\".format(grid.best_params_))"
   ]
  },
  {
   "cell_type": "code",
   "execution_count": null,
   "id": "5205c98f",
   "metadata": {},
   "outputs": [],
   "source": [
    "independent"
   ]
  },
  {
   "cell_type": "code",
   "execution_count": null,
   "id": "b5473f20",
   "metadata": {},
   "outputs": [],
   "source": [
    "grid_predictions=grid.predict(independent)\n",
    "\n",
    "from sklearn.metrics import r2_score\n",
    "r_score=r2_score(dependent,grid_predictions)"
   ]
  },
  {
   "cell_type": "code",
   "execution_count": null,
   "id": "ad10a7ce",
   "metadata": {},
   "outputs": [],
   "source": [
    "r_score"
   ]
  },
  {
   "cell_type": "code",
   "execution_count": null,
   "id": "ebe2fba5",
   "metadata": {},
   "outputs": [],
   "source": [
    "filename=\"finalized_dt.sav\"\n",
    "pickle.dump(grid,open(filename,'wb'))"
   ]
  },
  {
   "cell_type": "code",
   "execution_count": null,
   "id": "fad7c45f",
   "metadata": {},
   "outputs": [],
   "source": [
    "loaded_model=pickle.load(open(\"finalized_dt.sav\",'rb'))\n",
    "result=loaded_model.predict([[121,10,0,83.47]])"
   ]
  },
  {
   "cell_type": "code",
   "execution_count": null,
   "id": "b8c4a5f6",
   "metadata": {},
   "outputs": [],
   "source": [
    "result"
   ]
  },
  {
   "cell_type": "code",
   "execution_count": null,
   "id": "efd4693e",
   "metadata": {},
   "outputs": [],
   "source": [
    "sc_x=sc.transform([[121,100,0]])"
   ]
  },
  {
   "cell_type": "code",
   "execution_count": null,
   "id": "042228b4",
   "metadata": {},
   "outputs": [],
   "source": [
    "sc_x"
   ]
  },
  {
   "cell_type": "code",
   "execution_count": null,
   "id": "f8481eb5",
   "metadata": {},
   "outputs": [],
   "source": []
  }
 ],
 "metadata": {
  "kernelspec": {
   "display_name": "Python 3 (ipykernel)",
   "language": "python",
   "name": "python3"
  },
  "language_info": {
   "codemirror_mode": {
    "name": "ipython",
    "version": 3
   },
   "file_extension": ".py",
   "mimetype": "text/x-python",
   "name": "python",
   "nbconvert_exporter": "python",
   "pygments_lexer": "ipython3",
   "version": "3.11.3"
  }
 },
 "nbformat": 4,
 "nbformat_minor": 5
}
