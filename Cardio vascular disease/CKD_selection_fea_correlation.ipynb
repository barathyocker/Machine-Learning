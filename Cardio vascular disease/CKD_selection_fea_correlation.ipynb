{
 "cells": [
  {
   "cell_type": "code",
   "execution_count": 1,
   "id": "0015a531",
   "metadata": {},
   "outputs": [],
   "source": [
    "import pandas as pd"
   ]
  },
  {
   "cell_type": "code",
   "execution_count": 2,
   "id": "7cbda225",
   "metadata": {},
   "outputs": [],
   "source": [
    "dataset = pd.read_csv('CVD.csv')"
   ]
  },
  {
   "cell_type": "code",
   "execution_count": 3,
   "id": "fcd599df",
   "metadata": {},
   "outputs": [
    {
     "data": {
      "text/plain": [
       "Index(['patientid', 'age', 'gender', 'chestpain', 'restingBP',\n",
       "       'serumcholestrol', 'fastingbloodsugar', 'restingrelectro',\n",
       "       'maxheartrate', 'exerciseangia', 'oldpeak', 'slope', 'noofmajorvessels',\n",
       "       'target'],\n",
       "      dtype='object')"
      ]
     },
     "execution_count": 3,
     "metadata": {},
     "output_type": "execute_result"
    }
   ],
   "source": [
    "dataset.columns"
   ]
  },
  {
   "cell_type": "code",
   "execution_count": 4,
   "id": "c917a1ca",
   "metadata": {},
   "outputs": [],
   "source": [
    "correlation = dataset.corr()['target']"
   ]
  },
  {
   "cell_type": "code",
   "execution_count": 5,
   "id": "03c3467f",
   "metadata": {},
   "outputs": [
    {
     "data": {
      "text/plain": [
       "patientid           -0.005637\n",
       "age                  0.008356\n",
       "gender               0.015769\n",
       "chestpain            0.554228\n",
       "restingBP            0.482387\n",
       "serumcholestrol      0.195340\n",
       "fastingbloodsugar    0.303233\n",
       "restingrelectro      0.426837\n",
       "maxheartrate         0.228343\n",
       "exerciseangia       -0.039874\n",
       "oldpeak              0.098053\n",
       "slope                0.797358\n",
       "noofmajorvessels     0.489866\n",
       "target               1.000000\n",
       "Name: target, dtype: float64"
      ]
     },
     "execution_count": 5,
     "metadata": {},
     "output_type": "execute_result"
    }
   ],
   "source": [
    "correlation"
   ]
  },
  {
   "cell_type": "code",
   "execution_count": 6,
   "id": "b2b046dc",
   "metadata": {},
   "outputs": [
    {
     "name": "stdout",
     "output_type": "stream",
     "text": [
      "patientid           -0.005637\n",
      "age                  0.008356\n",
      "gender               0.015769\n",
      "chestpain            0.554228\n",
      "restingBP            0.482387\n",
      "serumcholestrol      0.195340\n",
      "fastingbloodsugar    0.303233\n",
      "restingrelectro      0.426837\n",
      "maxheartrate         0.228343\n",
      "exerciseangia       -0.039874\n",
      "oldpeak              0.098053\n",
      "slope                0.797358\n",
      "noofmajorvessels     0.489866\n",
      "target               1.000000\n",
      "Name: target, dtype: float64\n"
     ]
    }
   ],
   "source": [
    "print(correlation)"
   ]
  },
  {
   "cell_type": "code",
   "execution_count": 7,
   "id": "75efb5c3",
   "metadata": {},
   "outputs": [
    {
     "name": "stdout",
     "output_type": "stream",
     "text": [
      "Columns with correlation greater than 0.6:\n",
      "['slope', 'target']\n"
     ]
    }
   ],
   "source": [
    "correlation_with_target = dataset.corr()['target']\n",
    "\n",
    "# Print columns with correlation greater than 0.6 (adjust threshold as needed)\n",
    "selected_columns = correlation_with_target[abs(correlation_with_target) >= 0.6].index.tolist()\n",
    "print(\"Columns with correlation greater than 0.6:\")\n",
    "print(selected_columns)"
   ]
  },
  {
   "cell_type": "code",
   "execution_count": null,
   "id": "2053adc5",
   "metadata": {},
   "outputs": [],
   "source": []
  }
 ],
 "metadata": {
  "kernelspec": {
   "display_name": "Python 3 (ipykernel)",
   "language": "python",
   "name": "python3"
  },
  "language_info": {
   "codemirror_mode": {
    "name": "ipython",
    "version": 3
   },
   "file_extension": ".py",
   "mimetype": "text/x-python",
   "name": "python",
   "nbconvert_exporter": "python",
   "pygments_lexer": "ipython3",
   "version": "3.11.3"
  }
 },
 "nbformat": 4,
 "nbformat_minor": 5
}
