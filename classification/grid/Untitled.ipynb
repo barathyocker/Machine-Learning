{
 "cells": [
  {
   "cell_type": "code",
   "execution_count": 1,
   "id": "8782d607",
   "metadata": {},
   "outputs": [
    {
     "name": "stdout",
     "output_type": "stream",
     "text": [
      "Scikit-learn version: 1.2.2\n"
     ]
    }
   ],
   "source": [
    "import  sklearn\n",
    "print('Scikit-learn version:', sklearn.__version__)"
   ]
  },
  {
   "cell_type": "code",
   "execution_count": 2,
   "id": "93f85dfb",
   "metadata": {},
   "outputs": [
    {
     "name": "stdout",
     "output_type": "stream",
     "text": [
      "Requirement already satisfied: scikit-learn in c:\\users\\2155586\\appdata\\local\\anaconda3\\lib\\site-packages (1.2.2)\n",
      "Collecting scikit-learn\n",
      "  Downloading scikit_learn-1.3.1-cp311-cp311-win_amd64.whl (9.2 MB)\n",
      "                                              0.0/9.2 MB ? eta -:--:--\n",
      "                                              0.2/9.2 MB 5.1 MB/s eta 0:00:02\n",
      "     -                                        0.3/9.2 MB 3.4 MB/s eta 0:00:03\n",
      "     -                                        0.4/9.2 MB 3.4 MB/s eta 0:00:03\n",
      "     --                                       0.5/9.2 MB 3.8 MB/s eta 0:00:03\n",
      "     ---                                      0.7/9.2 MB 3.4 MB/s eta 0:00:03\n",
      "     ---                                      0.8/9.2 MB 3.4 MB/s eta 0:00:03\n",
      "     ---                                      0.8/9.2 MB 3.1 MB/s eta 0:00:03\n",
      "     ---                                      0.8/9.2 MB 3.1 MB/s eta 0:00:03\n",
      "     ----                                     1.1/9.2 MB 2.9 MB/s eta 0:00:03\n",
      "     ----                                     1.1/9.2 MB 2.8 MB/s eta 0:00:03\n",
      "     -----                                    1.2/9.2 MB 2.7 MB/s eta 0:00:03\n",
      "     -----                                    1.3/9.2 MB 2.8 MB/s eta 0:00:03\n",
      "     ------                                   1.5/9.2 MB 2.8 MB/s eta 0:00:03\n",
      "     -------                                  1.7/9.2 MB 2.9 MB/s eta 0:00:03\n",
      "     --------                                 1.9/9.2 MB 3.0 MB/s eta 0:00:03\n",
      "     --------                                 2.0/9.2 MB 3.0 MB/s eta 0:00:03\n",
      "     ---------                                2.2/9.2 MB 3.0 MB/s eta 0:00:03\n",
      "     ----------                               2.4/9.2 MB 3.1 MB/s eta 0:00:03\n",
      "     ----------                               2.5/9.2 MB 3.1 MB/s eta 0:00:03\n",
      "     -----------                              2.7/9.2 MB 3.2 MB/s eta 0:00:03\n",
      "     ------------                             2.9/9.2 MB 3.2 MB/s eta 0:00:02\n",
      "     -------------                            3.0/9.2 MB 3.2 MB/s eta 0:00:02\n",
      "     -------------                            3.2/9.2 MB 3.3 MB/s eta 0:00:02\n",
      "     --------------                           3.3/9.2 MB 3.3 MB/s eta 0:00:02\n",
      "     ---------------                          3.5/9.2 MB 3.3 MB/s eta 0:00:02\n",
      "     ---------------                          3.7/9.2 MB 3.3 MB/s eta 0:00:02\n",
      "     ----------------                         3.9/9.2 MB 3.3 MB/s eta 0:00:02\n",
      "     -----------------                        4.0/9.2 MB 3.4 MB/s eta 0:00:02\n",
      "     ------------------                       4.2/9.2 MB 3.4 MB/s eta 0:00:02\n",
      "     ------------------                       4.4/9.2 MB 3.4 MB/s eta 0:00:02\n",
      "     -------------------                      4.6/9.2 MB 3.4 MB/s eta 0:00:02\n",
      "     --------------------                     4.7/9.2 MB 3.4 MB/s eta 0:00:02\n",
      "     ---------------------                    4.9/9.2 MB 3.5 MB/s eta 0:00:02\n",
      "     ----------------------                   5.1/9.2 MB 3.5 MB/s eta 0:00:02\n",
      "     -----------------------                  5.3/9.2 MB 3.5 MB/s eta 0:00:02\n",
      "     -----------------------                  5.4/9.2 MB 3.5 MB/s eta 0:00:02\n",
      "     ------------------------                 5.6/9.2 MB 3.5 MB/s eta 0:00:02\n",
      "     -------------------------                5.8/9.2 MB 3.5 MB/s eta 0:00:01\n",
      "     -------------------------                6.0/9.2 MB 3.5 MB/s eta 0:00:01\n",
      "     --------------------------               6.1/9.2 MB 3.6 MB/s eta 0:00:01\n",
      "     ---------------------------              6.3/9.2 MB 3.5 MB/s eta 0:00:01\n",
      "     ----------------------------             6.5/9.2 MB 3.6 MB/s eta 0:00:01\n",
      "     ----------------------------             6.6/9.2 MB 3.6 MB/s eta 0:00:01\n",
      "     -----------------------------            6.8/9.2 MB 3.6 MB/s eta 0:00:01\n",
      "     ------------------------------           7.0/9.2 MB 3.6 MB/s eta 0:00:01\n",
      "     ------------------------------           7.1/9.2 MB 3.6 MB/s eta 0:00:01\n",
      "     -------------------------------          7.3/9.2 MB 3.6 MB/s eta 0:00:01\n",
      "     --------------------------------         7.4/9.2 MB 3.6 MB/s eta 0:00:01\n",
      "     ---------------------------------        7.6/9.2 MB 3.6 MB/s eta 0:00:01\n",
      "     ---------------------------------        7.7/9.2 MB 3.6 MB/s eta 0:00:01\n",
      "     ----------------------------------       7.9/9.2 MB 3.6 MB/s eta 0:00:01\n",
      "     -----------------------------------      8.1/9.2 MB 3.6 MB/s eta 0:00:01\n",
      "     -----------------------------------      8.3/9.2 MB 3.6 MB/s eta 0:00:01\n",
      "     ------------------------------------     8.4/9.2 MB 3.6 MB/s eta 0:00:01\n",
      "     -------------------------------------    8.6/9.2 MB 3.6 MB/s eta 0:00:01\n",
      "     -------------------------------------    8.7/9.2 MB 3.6 MB/s eta 0:00:01\n",
      "     --------------------------------------   8.9/9.2 MB 3.6 MB/s eta 0:00:01\n",
      "     ---------------------------------------  9.1/9.2 MB 3.7 MB/s eta 0:00:01\n",
      "     ---------------------------------------  9.1/9.2 MB 3.6 MB/s eta 0:00:01\n",
      "     ---------------------------------------  9.1/9.2 MB 3.6 MB/s eta 0:00:01\n",
      "     ---------------------------------------  9.2/9.2 MB 3.5 MB/s eta 0:00:01\n",
      "     ---------------------------------------  9.2/9.2 MB 3.5 MB/s eta 0:00:01\n",
      "     ---------------------------------------  9.2/9.2 MB 3.5 MB/s eta 0:00:01\n",
      "     ---------------------------------------  9.2/9.2 MB 3.5 MB/s eta 0:00:01\n",
      "     ---------------------------------------- 9.2/9.2 MB 3.3 MB/s eta 0:00:00\n",
      "Requirement already satisfied: numpy<2.0,>=1.17.3 in c:\\users\\2155586\\appdata\\local\\anaconda3\\lib\\site-packages (from scikit-learn) (1.24.3)\n",
      "Requirement already satisfied: scipy>=1.5.0 in c:\\users\\2155586\\appdata\\local\\anaconda3\\lib\\site-packages (from scikit-learn) (1.10.1)\n",
      "Requirement already satisfied: joblib>=1.1.1 in c:\\users\\2155586\\appdata\\local\\anaconda3\\lib\\site-packages (from scikit-learn) (1.2.0)\n",
      "Requirement already satisfied: threadpoolctl>=2.0.0 in c:\\users\\2155586\\appdata\\local\\anaconda3\\lib\\site-packages (from scikit-learn) (2.2.0)\n",
      "Installing collected packages: scikit-learn\n",
      "  Attempting uninstall: scikit-learn\n",
      "    Found existing installation: scikit-learn 1.2.2\n",
      "    Uninstalling scikit-learn-1.2.2:\n",
      "      Successfully uninstalled scikit-learn-1.2.2\n",
      "Successfully installed scikit-learn-1.3.1\n"
     ]
    }
   ],
   "source": [
    "!pip install --upgrade scikit-learn"
   ]
  },
  {
   "cell_type": "code",
   "execution_count": 3,
   "id": "9feee438",
   "metadata": {},
   "outputs": [
    {
     "name": "stdout",
     "output_type": "stream",
     "text": [
      "Scikit-learn version: 1.2.2\n"
     ]
    }
   ],
   "source": [
    "import  sklearn\n",
    "print('Scikit-learn version:', sklearn.__version__)"
   ]
  },
  {
   "cell_type": "code",
   "execution_count": null,
   "id": "a1df2f3b",
   "metadata": {},
   "outputs": [],
   "source": [
    "!conda update scikit-learn\n"
   ]
  },
  {
   "cell_type": "code",
   "execution_count": null,
   "id": "db198b21",
   "metadata": {},
   "outputs": [],
   "source": []
  }
 ],
 "metadata": {
  "kernelspec": {
   "display_name": "Python 3 (ipykernel)",
   "language": "python",
   "name": "python3"
  },
  "language_info": {
   "codemirror_mode": {
    "name": "ipython",
    "version": 3
   },
   "file_extension": ".py",
   "mimetype": "text/x-python",
   "name": "python",
   "nbconvert_exporter": "python",
   "pygments_lexer": "ipython3",
   "version": "3.11.3"
  }
 },
 "nbformat": 4,
 "nbformat_minor": 5
}
