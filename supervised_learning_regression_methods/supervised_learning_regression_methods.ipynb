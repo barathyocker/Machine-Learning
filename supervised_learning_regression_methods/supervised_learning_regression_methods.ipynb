{
 "cells": [
  {
   "cell_type": "code",
   "execution_count": null,
   "id": "2d7b7bb5",
   "metadata": {},
   "outputs": [],
   "source": [
    "#standard scaler\n",
    "from sklearn.preprocessing import StandardScaler\n",
    "sc= StandardScaler()\n",
    "x_train = sc.fit_transform(x_train)\n",
    "x_test = sc.fit_transform(x_test)"
   ]
  },
  {
   "cell_type": "code",
   "execution_count": null,
   "id": "f1b0de1d",
   "metadata": {},
   "outputs": [],
   "source": [
    "#simple linear regresion\n",
    "from sklearn.linear_model import LinearRegression\n",
    "regressor = LinearRegression()"
   ]
  },
  {
   "cell_type": "code",
   "execution_count": null,
   "id": "9acd31a8",
   "metadata": {},
   "outputs": [],
   "source": [
    "#multiple regression\n",
    "from sklearn.linear_model import LinearRegression\n",
    "regressor = LinearRegression()"
   ]
  },
  {
   "cell_type": "code",
   "execution_count": null,
   "id": "14d42614",
   "metadata": {},
   "outputs": [],
   "source": [
    "#support vector machine\n",
    "from sklearn.svm import SVR\n",
    "regressor=SVR()\n",
    "\n",
    "#kernel{linear, poly, rbf, sigmoid, precomputed} or callable, default=’rbf’\n",
    "#gamma{scale, auto} or float, default=’scale’"
   ]
  },
  {
   "cell_type": "code",
   "execution_count": null,
   "id": "92920bef",
   "metadata": {},
   "outputs": [],
   "source": [
    "#decision tree\n",
    "from sklearn.tree import DecisionTreeRegressor\n",
    "regressor=DecisionTreeRegressor()\n",
    "\n",
    "#criterion{“squared_error”, “friedman_mse”, “absolute_error”, “poisson”}, default=”squared_error”\n",
    "#splitter{“best”, “random”}, default=”best”\n",
    "#max_features int, float or {“auto”, “sqrt”, “log2”}, default=None\n",
    "\n",
    "#to view the graph in decisison tree\n",
    "import matplotlib.pyplot as plt\n",
    "from sklearn import tree\n",
    "tree.plot_tree(regressor)\n",
    "plt.show()"
   ]
  },
  {
   "cell_type": "code",
   "execution_count": null,
   "id": "614ba913",
   "metadata": {},
   "outputs": [],
   "source": [
    "#random forest\n",
    "from sklearn.ensemble import RandomForestRegressor\n",
    "regressor = RandomForestRegressor(n_estimators=50,random_state=0)\n",
    "\n",
    "#n_estimatorsint, default=100\n",
    "#criterion{“squared_error”, “absolute_error”, “friedman_mse”, “poisson”}, default=”squared_error”\n",
    "#max_features{“sqrt”, “log2”, None}, int or float, default=1.0\n",
    "\n"
   ]
  },
  {
   "cell_type": "code",
   "execution_count": null,
   "id": "d4c715da",
   "metadata": {},
   "outputs": [],
   "source": [
    "# to save the model\n",
    "import pickle\n",
    "filename=\"finalized_model_Mul_linear.sav\"\n",
    "pickle.dump(regressor,open(filename,'wb'))"
   ]
  },
  {
   "cell_type": "code",
   "execution_count": null,
   "id": "3200e754",
   "metadata": {},
   "outputs": [],
   "source": [
    "# to load the saved model\n",
    "loaded_model=pickle.load(open(\"finalized_model_Mul_linear.sav\",'rb'))\n",
    "result=loaded_model.predict([[1234,345,4565,1,0]])"
   ]
  },
  {
   "cell_type": "code",
   "execution_count": null,
   "id": "c38c8fa0",
   "metadata": {},
   "outputs": [],
   "source": [
    "#Measuring accuracy on Testing Data\n",
    "print('Accuracy',100- (np.mean(np.abs((y_test - y_pred) / y_test)) * 100))"
   ]
  },
  {
   "cell_type": "code",
   "execution_count": null,
   "id": "97885d85",
   "metadata": {},
   "outputs": [],
   "source": [
    "#to install xg boost\n",
    "!pip install xgboost"
   ]
  }
 ],
 "metadata": {
  "kernelspec": {
   "display_name": "Python 3 (ipykernel)",
   "language": "python",
   "name": "python3"
  },
  "language_info": {
   "codemirror_mode": {
    "name": "ipython",
    "version": 3
   },
   "file_extension": ".py",
   "mimetype": "text/x-python",
   "name": "python",
   "nbconvert_exporter": "python",
   "pygments_lexer": "ipython3",
   "version": "3.11.3"
  }
 },
 "nbformat": 4,
 "nbformat_minor": 5
}
