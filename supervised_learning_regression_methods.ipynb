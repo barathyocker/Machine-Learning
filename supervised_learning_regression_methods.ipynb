{
 "cells": [
  {
   "cell_type": "code",
   "execution_count": null,
   "id": "2d7b7bb5",
   "metadata": {},
   "outputs": [],
   "source": [
    "#standard scaler\n",
    "from sklearn.preprocessing import StandardScaler\n",
    "sc= StandardScaler()\n",
    "x_train = sc.fit_transform(x_train)\n",
    "x_test = sc.fit_transform(x_test)"
   ]
  },
  {
   "cell_type": "code",
   "execution_count": null,
   "id": "f1b0de1d",
   "metadata": {},
   "outputs": [],
   "source": [
    "#simple linear regresion\n",
    "from sklearn.linear_model import LinearRegression\n",
    "regressor = LinearRegression()"
   ]
  },
  {
   "cell_type": "code",
   "execution_count": null,
   "id": "9acd31a8",
   "metadata": {},
   "outputs": [],
   "source": [
    "#multiple regression\n",
    "from sklearn.linear_model import LinearRegression\n",
    "regressor = LinearRegression()"
   ]
  },
  {
   "cell_type": "code",
   "execution_count": null,
   "id": "14d42614",
   "metadata": {},
   "outputs": [],
   "source": [
    "#support vector machine\n",
    "from sklearn.svm import SVR\n",
    "regressor=SVR()\n",
    "\n",
    "#kernel{linear, poly, rbf, sigmoid, precomputed} or callable, default=’rbf’\n",
    "#gamma{scale, auto} or float, default=’scale’"
   ]
  },
  {
   "cell_type": "code",
   "execution_count": null,
   "id": "92920bef",
   "metadata": {},
   "outputs": [],
   "source": [
    "#decision tree\n",
    "from sklearn.tree import DecisionTreeRegressor\n",
    "regressor=DecisionTreeRegressor()\n",
    "\n",
    "#criterion{“squared_error”, “friedman_mse”, “absolute_error”, “poisson”}, default=”squared_error”\n",
    "#splitter{“best”, “random”}, default=”best”\n",
    "#max_features int, float or {“auto”, “sqrt”, “log2”}, default=None\n",
    "\n",
    "#to view the graph in decisison tree\n",
    "import matplotlib.pyplot as plt\n",
    "from sklearn import tree\n",
    "tree.plot_tree(regressor)\n",
    "plt.show()"
   ]
  },
  {
   "cell_type": "code",
   "execution_count": null,
   "id": "614ba913",
   "metadata": {},
   "outputs": [],
   "source": [
    "#random forest\n",
    "from sklearn.ensemble import RandomForestRegressor\n",
    "regressor = RandomForestRegressor(n_estimators=50,random_state=0)\n",
    "\n",
    "#n_estimatorsint, default=100\n",
    "#criterion{“squared_error”, “absolute_error”, “friedman_mse”, “poisson”}, default=”squared_error”\n",
    "#max_features{“sqrt”, “log2”, None}, int or float, default=1.0\n",
    "\n"
   ]
  },
  {
   "cell_type": "code",
   "execution_count": null,
   "id": "d4c715da",
   "metadata": {},
   "outputs": [],
   "source": [
    "# to save the model\n",
    "import pickle\n",
    "filename=\"finalized_model_Mul_linear.sav\"\n",
    "pickle.dump(regressor,open(filename,'wb'))"
   ]
  },
  {
   "cell_type": "code",
   "execution_count": null,
   "id": "3200e754",
   "metadata": {},
   "outputs": [],
   "source": [
    "# to load the saved model\n",
    "loaded_model=pickle.load(open(\"finalized_model_Mul_linear.sav\",'rb'))\n",
    "result=loaded_model.predict([[1234,345,4565,1,0]])"
   ]
  },
  {
   "cell_type": "code",
   "execution_count": null,
   "id": "c38c8fa0",
   "metadata": {},
   "outputs": [],
   "source": [
    "#Measuring accuracy on Testing Data\n",
    "print('Accuracy',100- (np.mean(np.abs((y_test - y_pred) / y_test)) * 100))"
   ]
  },
  {
   "cell_type": "code",
   "execution_count": null,
   "id": "97885d85",
   "metadata": {},
   "outputs": [],
   "source": [
    "#to install xg boost\n",
    "!pip install xgboost"
   ]
  },
  {
   "cell_type": "code",
   "execution_count": null,
   "id": "48b5402d",
   "metadata": {},
   "outputs": [],
   "source": [
    "from sklearn.model_selection import GridSearchCV\n",
    "from sklearn.tree import DecisionTreeRegressor\n",
    "param_grid = {'criterion': ['squared_error', 'friedman_mse','absolute_error','poison'],\n",
    "             'splitter': ['best','random'],'max_features':['auto','sqrt','log2']}\n",
    "\n",
    "grid =GridSearchCV(DecisionTreeRegressor(), param_grid, refit=True, verbose=3 ,n_jobs=-1)\n",
    "\n",
    "#fitting model for grid\n",
    "grid.fit(x_train,y_train) #remove xtrain , ytrain and use independent ,dependent directly\n",
    "\n",
    "re=grid.cv_results_\n",
    "print(\"the R_score value for the best parameter {}:\".format(grid.best_params_))\n",
    "\n",
    "table=pd.DataFrame.from_dict(re)\n",
    "\n",
    "table"
   ]
  },
  {
   "cell_type": "code",
   "execution_count": null,
   "id": "21eb02e2",
   "metadata": {},
   "outputs": [],
   "source": [
    "from sklearn.model_selection import GridSearchCV\n",
    "\n",
    "from sklearn.ensemble import RandomForestRegressor\n",
    "\n",
    "param_grid = {'criterion': ['squared_error', 'friedman_mse','absolute_error','poison'],\n",
    "             'max_features':['sqrt','log2'], 'n_estimators' : [10,50,100] }\n",
    "\n",
    "grid =GridSearchCV(RandomForestRegressor(), param_grid, refit=True, verbose=3 ,n_jobs=-1)"
   ]
  },
  {
   "cell_type": "code",
   "execution_count": null,
   "id": "b077f69d",
   "metadata": {},
   "outputs": [],
   "source": [
    "from sklearn.model_selection import GridSearchCV\n",
    "from sklearn.svm import SVR\n",
    "param_grid = {'kernel': ['rbf', 'poly','sigmoid','linear'],\n",
    "             'C': [3000,5000,6000],'gamma':['auto','scale']}\n",
    "\n",
    "grid =GridSearchCV(SVR(), param_grid, refit=True, verbose=3 ,n_jobs=-1)"
   ]
  },
  {
   "cell_type": "code",
   "execution_count": null,
   "id": "79f212bb",
   "metadata": {},
   "outputs": [],
   "source": [
    "age_input = float(input(\"age \"))\n",
    "bmi_input = float(input('bmi '))\n",
    "children_input = float(input(\"children \"))\n",
    "sex_male_input = input(\"sex_male 0 or 1 \")\n",
    "smoker_yes_input = input (\"smoker_yes 0 or 1 \")\n",
    "\n",
    "future_prediction=grid.predict([[age_input,bmi_input,children_input,sex_male_input,smoker_yes_input]])\n",
    "print(\"future_predicition={}\".format(future_prediction))"
   ]
  },
  {
   "cell_type": "code",
   "execution_count": null,
   "id": "5706abce",
   "metadata": {},
   "outputs": [],
   "source": [
    "#r_score grid prediction\n",
    "grid_predictions=grid.predict(x_test)\n",
    "\n",
    "from sklearn.metrics import r2_score\n",
    "r_score=r2_score(y_test,grid_predictions)\n"
   ]
  },
  {
   "cell_type": "code",
   "execution_count": null,
   "id": "87989fa8",
   "metadata": {},
   "outputs": [],
   "source": [
    "#r_score for cv grid without spliting \n",
    "grid_predictions=grid.predict(independent)\n",
    "\n",
    "from sklearn.metrics import r2_score\n",
    "r_score=r2_score(dependent,grid_predictions)"
   ]
  },
  {
   "cell_type": "code",
   "execution_count": null,
   "id": "02870248",
   "metadata": {},
   "outputs": [],
   "source": [
    "import pickle # for saving the best model from grid search cv\n",
    "filename=\"finalized_decision.sav\"\n",
    "pickle.dump(grid,open(filename,'wb'))"
   ]
  },
  {
   "cell_type": "code",
   "execution_count": null,
   "id": "95399ad3",
   "metadata": {},
   "outputs": [],
   "source": [
    "sc_x=sc.transform #for saving sc.transform sc_x varible is used\n",
    "sc_transform_value=sc_x([[age_input,bmi_input,children_input,sex_male_input,smoker_yes_input]])"
   ]
  },
  {
   "cell_type": "code",
   "execution_count": null,
   "id": "fda6da0f",
   "metadata": {},
   "outputs": [],
   "source": [
    "#for saving the sc transform value\n",
    "pickle.dump(sc_x, open('scaler_transform.pkl', 'wb'))"
   ]
  },
  {
   "cell_type": "code",
   "execution_count": null,
   "id": "d84285e5",
   "metadata": {},
   "outputs": [],
   "source": [
    "loaded_model=pickle.load(open(\"finalized_decision.sav\",'rb'))\n",
    "#for loading the sc transform\n",
    "scaler_transform =pickle.load(open('scaler_transform.pkl', 'rb'))"
   ]
  },
  {
   "cell_type": "code",
   "execution_count": null,
   "id": "8f387c3c",
   "metadata": {},
   "outputs": [],
   "source": [
    "from sklearn.model_selection import GridSearchCV\n",
    "from sklearn.tree import DecisionTreeClassifier\n",
    "param_grid = {'criterion': ['gini', 'entropy','log_loss'],\n",
    "             'splitter': ['best','random'],'max_features':['auto','sqrt','log2']}\n",
    "\n",
    "grid =GridSearchCV(DecisionTreeClassifier(probability=True), param_grid, refit=True, verbose=3 ,n_jobs=-1,scoring = 'f1_weighted')"
   ]
  },
  {
   "cell_type": "code",
   "execution_count": null,
   "id": "c232e5d7",
   "metadata": {},
   "outputs": [],
   "source": [
    "from sklearn.model_selection import GridSearchCV\n",
    "\n",
    "from sklearn.ensemble import RandomForestClassifier\n",
    "\n",
    "param_grid = {'criterion': ['gini', 'entropy','log_loss'],\n",
    "             'max_features':['sqrt','log2'], 'n_estimators' : [10,50,100] }\n",
    "\n",
    "grid =GridSearchCV(RandomForestClassifier(probability=True), param_grid, refit=True, verbose=3 ,n_jobs=-1,scoring = 'f1_weighted')"
   ]
  },
  {
   "cell_type": "code",
   "execution_count": null,
   "id": "333351a5",
   "metadata": {},
   "outputs": [],
   "source": [
    "from sklearn.model_selection import GridSearchCV\n",
    "from sklearn.svm import SVC\n",
    "param_grid = {'kernel': ['rbf', 'poly','sigmoid','linear'],\n",
    "             'C': [3000,5000,6000],'gamma':['auto','scale']}\n",
    "\n",
    "grid =GridSearchCV(SVC(probability=True), param_grid, refit=True, verbose=3 ,n_jobs=-1 ,scoring = 'f1_weighted')"
   ]
  }
 ],
 "metadata": {
  "kernelspec": {
   "display_name": "Python 3 (ipykernel)",
   "language": "python",
   "name": "python3"
  },
  "language_info": {
   "codemirror_mode": {
    "name": "ipython",
    "version": 3
   },
   "file_extension": ".py",
   "mimetype": "text/x-python",
   "name": "python",
   "nbconvert_exporter": "python",
   "pygments_lexer": "ipython3",
   "version": "3.11.3"
  }
 },
 "nbformat": 4,
 "nbformat_minor": 5
}
