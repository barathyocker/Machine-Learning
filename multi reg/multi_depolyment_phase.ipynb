{
 "cells": [
  {
   "cell_type": "code",
   "execution_count": 4,
   "id": "37a3d39b",
   "metadata": {},
   "outputs": [],
   "source": [
    "import pickle\n",
    "loaded_model=pickle.load(open(\"final_model_multi_linear.sav\",\"rb\"))"
   ]
  },
  {
   "cell_type": "code",
   "execution_count": 11,
   "id": "be005058",
   "metadata": {},
   "outputs": [
    {
     "name": "stdout",
     "output_type": "stream",
     "text": [
      "R&D Spend 4562\n",
      "Administration 5466\n",
      "Marketing Spend 253\n",
      "State_Florida 0\n",
      "State_New York 0\n"
     ]
    },
    {
     "name": "stderr",
     "output_type": "stream",
     "text": [
      "/home/barath/anaconda3/lib/python3.11/site-packages/sklearn/base.py:439: UserWarning: X does not have valid feature names, but LinearRegression was fitted with feature names\n",
      "  warnings.warn(\n"
     ]
    }
   ],
   "source": [
    "result=loaded_model.predict([[int(input(\"R&D Spend \")),int(input(\"Administration \")),int(input(\"Marketing Spend \")),int(input(\"State_Florida \")),int(input(\"State_New York \"))]])"
   ]
  },
  {
   "cell_type": "code",
   "execution_count": 12,
   "id": "37d86b7f",
   "metadata": {},
   "outputs": [
    {
     "data": {
      "text/plain": [
       "array([[46184.5866709]])"
      ]
     },
     "execution_count": 12,
     "metadata": {},
     "output_type": "execute_result"
    }
   ],
   "source": [
    "result"
   ]
  },
  {
   "cell_type": "code",
   "execution_count": null,
   "id": "223702be",
   "metadata": {},
   "outputs": [],
   "source": []
  }
 ],
 "metadata": {
  "kernelspec": {
   "display_name": "Python 3 (ipykernel)",
   "language": "python",
   "name": "python3"
  },
  "language_info": {
   "codemirror_mode": {
    "name": "ipython",
    "version": 3
   },
   "file_extension": ".py",
   "mimetype": "text/x-python",
   "name": "python",
   "nbconvert_exporter": "python",
   "pygments_lexer": "ipython3",
   "version": "3.11.3"
  }
 },
 "nbformat": 4,
 "nbformat_minor": 5
}
