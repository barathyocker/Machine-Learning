{
 "cells": [
  {
   "cell_type": "code",
   "execution_count": 1,
   "id": "0b5503b2",
   "metadata": {},
   "outputs": [],
   "source": [
    "import pickle"
   ]
  },
  {
   "cell_type": "code",
   "execution_count": 2,
   "id": "58d961e4",
   "metadata": {},
   "outputs": [],
   "source": [
    "loaded_model=pickle.load(open(\"finalized_decision.sav\",'rb'))\n",
    "scaler_transform =pickle.load(open('scaler_transform.pkl', 'rb'))"
   ]
  },
  {
   "cell_type": "code",
   "execution_count": 3,
   "id": "0ba7204f",
   "metadata": {},
   "outputs": [
    {
     "name": "stdout",
     "output_type": "stream",
     "text": [
      "age 28\n",
      "bmi 33\n",
      "children 3\n",
      "sex_male 0 or 1 1\n",
      "smoker_yes 0 or 1 0\n"
     ]
    }
   ],
   "source": [
    "age_input = float(input(\"age \"))\n",
    "bmi_input = float(input('bmi '))\n",
    "children_input = float(input(\"children \"))\n",
    "sex_male_input = input(\"sex_male 0 or 1 \")\n",
    "smoker_yes_input = input (\"smoker_yes 0 or 1 \")"
   ]
  },
  {
   "cell_type": "code",
   "execution_count": 4,
   "id": "a277e0b4",
   "metadata": {},
   "outputs": [
    {
     "name": "stderr",
     "output_type": "stream",
     "text": [
      "C:\\Users\\2155586\\AppData\\Local\\anaconda3\\Lib\\site-packages\\sklearn\\base.py:439: UserWarning: X does not have valid feature names, but StandardScaler was fitted with feature names\n",
      "  warnings.warn(\n"
     ]
    }
   ],
   "source": [
    "input_for_prediction=scaler_transform([[age_input,bmi_input,children_input,sex_male_input,smoker_yes_input]])"
   ]
  },
  {
   "cell_type": "code",
   "execution_count": 5,
   "id": "2ec36808",
   "metadata": {},
   "outputs": [],
   "source": [
    "result=loaded_model.predict(input_for_prediction)"
   ]
  },
  {
   "cell_type": "code",
   "execution_count": 6,
   "id": "8d53a5ba",
   "metadata": {},
   "outputs": [
    {
     "data": {
      "text/plain": [
       "array([4449.462])"
      ]
     },
     "execution_count": 6,
     "metadata": {},
     "output_type": "execute_result"
    }
   ],
   "source": [
    "result"
   ]
  }
 ],
 "metadata": {
  "kernelspec": {
   "display_name": "Python 3 (ipykernel)",
   "language": "python",
   "name": "python3"
  },
  "language_info": {
   "codemirror_mode": {
    "name": "ipython",
    "version": 3
   },
   "file_extension": ".py",
   "mimetype": "text/x-python",
   "name": "python",
   "nbconvert_exporter": "python",
   "pygments_lexer": "ipython3",
   "version": "3.11.3"
  }
 },
 "nbformat": 4,
 "nbformat_minor": 5
}
