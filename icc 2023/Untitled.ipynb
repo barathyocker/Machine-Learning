{
 "cells": [
  {
   "cell_type": "code",
   "execution_count": null,
   "id": "492f3323",
   "metadata": {},
   "outputs": [],
   "source": [
    "import pandas as pd\n",
    "import numpy as py\n",
    "import pickle"
   ]
  },
  {
   "cell_type": "code",
   "execution_count": null,
   "id": "f4a1ea68",
   "metadata": {},
   "outputs": [],
   "source": [
    "dataset = pd.read_csv('icc 2023 virat runs.csv')"
   ]
  },
  {
   "cell_type": "code",
   "execution_count": null,
   "id": "ceb7a842",
   "metadata": {},
   "outputs": [],
   "source": [
    "dataset"
   ]
  },
  {
   "cell_type": "code",
   "execution_count": null,
   "id": "d34b78a1",
   "metadata": {},
   "outputs": [],
   "source": [
    "independent= dataset[[ 'balls', 'four', 'six']]"
   ]
  },
  {
   "cell_type": "code",
   "execution_count": null,
   "id": "5527ad89",
   "metadata": {},
   "outputs": [],
   "source": [
    "dependent=dataset[['runs' ]]"
   ]
  },
  {
   "cell_type": "code",
   "execution_count": null,
   "id": "8e657a96",
   "metadata": {},
   "outputs": [],
   "source": [
    "from sklearn.model_selection import GridSearchCV\n",
    "\n",
    "from sklearn.tree import DecisionTreeRegressor\n",
    "\n",
    "param_grid = {'criterion': ['squared_error', 'friedman_mse','absolute_error','poison'],\n",
    "             'splitter': ['best','random'],'max_features':['sqrt','log2']}\n",
    "\n",
    "grid =GridSearchCV(DecisionTreeRegressor(), param_grid, refit=True, verbose=3 ,n_jobs=-1)"
   ]
  },
  {
   "cell_type": "code",
   "execution_count": null,
   "id": "546996c5",
   "metadata": {},
   "outputs": [],
   "source": [
    "grid.fit(independent,dependent)"
   ]
  },
  {
   "cell_type": "code",
   "execution_count": null,
   "id": "337484de",
   "metadata": {},
   "outputs": [],
   "source": [
    "re=grid.cv_results_\n",
    "print(\"the R_score value for the best parameter {}:\".format(grid.best_params_))"
   ]
  },
  {
   "cell_type": "code",
   "execution_count": null,
   "id": "dae8b4a9",
   "metadata": {},
   "outputs": [],
   "source": [
    "grid_predictions=grid.predict(independent)\n",
    "\n",
    "from sklearn.metrics import r2_score\n",
    "r_score=r2_score(dependent,grid_predictions)"
   ]
  },
  {
   "cell_type": "code",
   "execution_count": null,
   "id": "d6cbec0e",
   "metadata": {},
   "outputs": [],
   "source": [
    "r_score"
   ]
  },
  {
   "cell_type": "code",
   "execution_count": null,
   "id": "6636b457",
   "metadata": {},
   "outputs": [],
   "source": [
    "loaded_model=pickle.load(open(\"final_dt.sav\",'rb'))\n",
    "result=loaded_model.predict([[1000,20,0]])"
   ]
  },
  {
   "cell_type": "code",
   "execution_count": null,
   "id": "fb7cad0e",
   "metadata": {},
   "outputs": [],
   "source": [
    "import pickle # for saving the best model from grid search cv\n",
    "filename=\"final_dt.sav\"\n",
    "pickle.dump(grid,open(filename,'wb'))"
   ]
  },
  {
   "cell_type": "code",
   "execution_count": null,
   "id": "f86467b6",
   "metadata": {},
   "outputs": [],
   "source": [
    "result"
   ]
  },
  {
   "cell_type": "code",
   "execution_count": null,
   "id": "76ec150b",
   "metadata": {},
   "outputs": [],
   "source": []
  }
 ],
 "metadata": {
  "kernelspec": {
   "display_name": "Python 3 (ipykernel)",
   "language": "python",
   "name": "python3"
  },
  "language_info": {
   "codemirror_mode": {
    "name": "ipython",
    "version": 3
   },
   "file_extension": ".py",
   "mimetype": "text/x-python",
   "name": "python",
   "nbconvert_exporter": "python",
   "pygments_lexer": "ipython3",
   "version": "3.11.3"
  }
 },
 "nbformat": 4,
 "nbformat_minor": 5
}
