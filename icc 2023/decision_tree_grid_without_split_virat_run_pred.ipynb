{
 "cells": [
  {
   "cell_type": "code",
   "execution_count": null,
   "id": "f3770a93",
   "metadata": {},
   "outputs": [],
   "source": [
    "import pandas as pd\n",
    "import numpy as py\n",
    "import pickle"
   ]
  },
  {
   "cell_type": "code",
   "execution_count": null,
   "id": "c37addca",
   "metadata": {},
   "outputs": [],
   "source": [
    "dataset = pd.read_csv('icc 2023 virat runs.csv')"
   ]
  },
  {
   "cell_type": "code",
   "execution_count": null,
   "id": "80f9aeed",
   "metadata": {},
   "outputs": [],
   "source": [
    "dataset"
   ]
  },
  {
   "cell_type": "code",
   "execution_count": null,
   "id": "784b9cf6",
   "metadata": {},
   "outputs": [],
   "source": [
    "dataset.columns"
   ]
  },
  {
   "cell_type": "code",
   "execution_count": null,
   "id": "ee3b7473",
   "metadata": {},
   "outputs": [],
   "source": [
    "independent= dataset[[ 'balls', 'four', 'six']]"
   ]
  },
  {
   "cell_type": "code",
   "execution_count": null,
   "id": "eede5454",
   "metadata": {},
   "outputs": [],
   "source": [
    "dependent=dataset[['runs' ]]"
   ]
  },
  {
   "cell_type": "code",
   "execution_count": null,
   "id": "41d1744b",
   "metadata": {},
   "outputs": [],
   "source": [
    "from sklearn.model_selection import GridSearchCV\n",
    "\n",
    "from sklearn.tree import DecisionTreeRegressor\n",
    "\n",
    "param_grid = {'criterion': ['squared_error', 'friedman_mse','absolute_error','poison'],\n",
    "             'splitter': ['best','random'],'max_features':['sqrt','log2']}\n",
    "\n",
    "grid =GridSearchCV(DecisionTreeRegressor(), param_grid, refit=True, verbose=3 ,n_jobs=-1)\n"
   ]
  },
  {
   "cell_type": "code",
   "execution_count": null,
   "id": "59226da3",
   "metadata": {},
   "outputs": [],
   "source": [
    "#fitting model for grid\n",
    "grid.fit(independent,dependent)"
   ]
  },
  {
   "cell_type": "code",
   "execution_count": null,
   "id": "f4cbc81f",
   "metadata": {},
   "outputs": [],
   "source": [
    "re=grid.cv_results_\n",
    "print(\"the R_score value for the best parameter {}:\".format(grid.best_params_))"
   ]
  },
  {
   "cell_type": "code",
   "execution_count": null,
   "id": "04852604",
   "metadata": {},
   "outputs": [],
   "source": [
    "table=pd.DataFrame.from_dict(re)"
   ]
  },
  {
   "cell_type": "code",
   "execution_count": null,
   "id": "b0052d68",
   "metadata": {},
   "outputs": [],
   "source": [
    "table"
   ]
  },
  {
   "cell_type": "code",
   "execution_count": null,
   "id": "939ad033",
   "metadata": {},
   "outputs": [],
   "source": [
    "grid_predictions=grid.predict(independent)\n",
    "\n",
    "from sklearn.metrics import r2_score\n",
    "r_score=r2_score(dependent,grid_predictions)"
   ]
  },
  {
   "cell_type": "code",
   "execution_count": null,
   "id": "ad1679fd",
   "metadata": {},
   "outputs": [],
   "source": [
    "r_score"
   ]
  },
  {
   "cell_type": "code",
   "execution_count": null,
   "id": "8767b63c",
   "metadata": {},
   "outputs": [],
   "source": [
    "import pickle # for saving the best model from grid search cv\n",
    "filename=\"finalized_dt.sav\"\n",
    "pickle.dump(grid,open(filename,'wb'))"
   ]
  },
  {
   "cell_type": "code",
   "execution_count": null,
   "id": "4f4a1790",
   "metadata": {},
   "outputs": [],
   "source": [
    "loaded_model=pickle.load(open(\"finalized_dt.sav\",'rb'))\n",
    "result=loaded_model.predict([[121,10,0]])"
   ]
  },
  {
   "cell_type": "code",
   "execution_count": null,
   "id": "8311963f",
   "metadata": {},
   "outputs": [],
   "source": [
    "result"
   ]
  },
  {
   "cell_type": "code",
   "execution_count": null,
   "id": "ebbd2e2c",
   "metadata": {},
   "outputs": [],
   "source": []
  }
 ],
 "metadata": {
  "kernelspec": {
   "display_name": "Python 3 (ipykernel)",
   "language": "python",
   "name": "python3"
  },
  "language_info": {
   "codemirror_mode": {
    "name": "ipython",
    "version": 3
   },
   "file_extension": ".py",
   "mimetype": "text/x-python",
   "name": "python",
   "nbconvert_exporter": "python",
   "pygments_lexer": "ipython3",
   "version": "3.11.3"
  }
 },
 "nbformat": 4,
 "nbformat_minor": 5
}
